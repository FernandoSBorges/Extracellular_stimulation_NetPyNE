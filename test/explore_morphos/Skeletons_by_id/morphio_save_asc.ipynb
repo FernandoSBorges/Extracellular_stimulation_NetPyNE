{
 "cells": [
  {
   "cell_type": "code",
   "execution_count": null,
   "metadata": {},
   "outputs": [],
   "source": [
    "# pip install \"morphio<2.6\" \"morph-tool==2.3.0\""
   ]
  },
  {
   "cell_type": "code",
   "execution_count": 5,
   "metadata": {},
   "outputs": [],
   "source": [
    "import morphio.mut as io\n",
    "import morphio\n",
    "\n",
    "import numpy as np\n",
    "import os\n",
    "from os.path import join\n",
    "data_folder = ''\n",
    "filename = join(data_folder, 'simple.swc')"
   ]
  },
  {
   "cell_type": "code",
   "execution_count": 8,
   "metadata": {},
   "outputs": [
    {
     "name": "stderr",
     "output_type": "stream",
     "text": [
      "\n",
      "\u001b[1;33mh01_c3_636444441.swc:0:warning\u001b[0m\n",
      "Warning: no soma found in file\n",
      "\n",
      "Warning: writing file without a soma\n"
     ]
    }
   ],
   "source": [
    "filename = 'h01_c3_636444441.swc'\n",
    "m = io.Morphology(filename)\n",
    "m.write('h01_c3_636444441_.asc')"
   ]
  },
  {
   "cell_type": "code",
   "execution_count": 9,
   "metadata": {},
   "outputs": [
    {
     "name": "stderr",
     "output_type": "stream",
     "text": [
      "\n",
      "\u001b[1;33mh01_c3_636444441_.asc:0:warning\u001b[0m\n",
      "Warning: no soma found in file\n",
      "\n",
      "Warning: writing file without a soma\n"
     ]
    }
   ],
   "source": [
    "filename = 'h01_c3_636444441_.asc'\n",
    "m = io.Morphology(filename)\n",
    "m.write('h01_c3_636444441_.swc')"
   ]
  },
  {
   "cell_type": "code",
   "execution_count": 22,
   "metadata": {},
   "outputs": [
    {
     "name": "stderr",
     "output_type": "stream",
     "text": [
      "\n",
      "\u001b[1;33mh01_c3_636444441_p1_dend.asc:0:warning\u001b[0m\n",
      "Warning: no soma found in file\n",
      "\n",
      "Warning: writing file without a soma\n"
     ]
    }
   ],
   "source": [
    "other_morph = io.Morphology(join(data_folder, 'h01_c3_636444441_p1_dend.asc'))\n",
    "other_morph.write('h01_c3_636444441_p1_dend_.swc')"
   ]
  },
  {
   "cell_type": "code",
   "execution_count": 21,
   "metadata": {},
   "outputs": [
    {
     "name": "stderr",
     "output_type": "stream",
     "text": [
      "\n",
      "\u001b[1;33mh01_c3_636444441_p1_dend.swc:0:warning\u001b[0m\n",
      "Warning: no soma found in file\n",
      "\n",
      "Warning: writing file without a soma\n"
     ]
    }
   ],
   "source": [
    "other_morph = io.Morphology(join(data_folder, 'h01_c3_636444441_p1_dend.swc'))\n",
    "other_morph.write('h01_c3_636444441_p1_dend.asc')\n"
   ]
  },
  {
   "cell_type": "code",
   "execution_count": 74,
   "metadata": {},
   "outputs": [
    {
     "data": {
      "text/plain": [
       "<morphio._morphio.Morphology at 0x7e8a73ef86b0>"
      ]
     },
     "execution_count": 74,
     "metadata": {},
     "output_type": "execute_result"
    }
   ],
   "source": [
    "filename = 'h01_c3_636444441_p1_soma.asc'\n",
    "cell = morphio.Morphology(filename)\n",
    "cell"
   ]
  },
  {
   "cell_type": "code",
   "execution_count": 75,
   "metadata": {},
   "outputs": [
    {
     "name": "stderr",
     "output_type": "stream",
     "text": [
      "\n",
      "\u001b[1;33mh01_c3_636444441_p1_dend.asc:0:warning\u001b[0m\n",
      "Warning: no soma found in file\n"
     ]
    },
    {
     "data": {
      "text/plain": [
       "<morphio._morphio.Morphology at 0x7e8a70704130>"
      ]
     },
     "execution_count": 75,
     "metadata": {},
     "output_type": "execute_result"
    }
   ],
   "source": [
    "filename2 = 'h01_c3_636444441_p1_dend.asc'\n",
    "cell2 = morphio.Morphology(filename2)\n",
    "cell2"
   ]
  },
  {
   "cell_type": "code",
   "execution_count": 77,
   "metadata": {},
   "outputs": [
    {
     "data": {
      "text/plain": [
       "[<SectionType.basal_dendrite: 3>, <SectionType.basal_dendrite: 3>]"
      ]
     },
     "execution_count": 77,
     "metadata": {},
     "output_type": "execute_result"
    }
   ],
   "source": [
    "cell.points\n",
    "cell.diameters\n",
    "cell.perimeters\n",
    "cell.soma\n",
    "cell.soma.diameters\n",
    "# cell.soma.points\n",
    "cell.section(0).diameters\n",
    "cell.section(1).diameters\n",
    "# All sections connected to the soma are called 'root sections'\n",
    "# Nope, the soma is not a section.\n",
    "cell.section(1).is_root\n",
    "# Defaults to order of appearance in the file\n",
    "[section.type for section in cell.root_sections]"
   ]
  },
  {
   "cell_type": "code",
   "execution_count": 78,
   "metadata": {},
   "outputs": [],
   "source": [
    "# # Can be changed with the opening flag morphio.nrn_order to respect NEURON simulator ordering\n",
    "# # soma -> axon -> basal dendrite -> apical dendrite\n",
    "# cell2 = morphio.Morphology(filename, options=morphio.nrn_order)\n",
    "# [section.type for section in cell2.root_sections]"
   ]
  },
  {
   "cell_type": "code",
   "execution_count": 66,
   "metadata": {},
   "outputs": [
    {
     "data": {
      "text/plain": [
       "{'depth_first': <IterType.depth_first: 0>,\n",
       " 'breadth_first': <IterType.breadth_first: 1>,\n",
       " 'upstream': <IterType.upstream: 2>}"
      ]
     },
     "execution_count": 66,
     "metadata": {},
     "output_type": "execute_result"
    }
   ],
   "source": [
    "from morphio import IterType\n",
    "\n",
    "IterType.__members__"
   ]
  },
  {
   "cell_type": "code",
   "execution_count": 79,
   "metadata": {},
   "outputs": [
    {
     "data": {
      "text/plain": [
       "[<morphio._morphio.Section at 0x7e8a70728bf0>]"
      ]
     },
     "execution_count": 79,
     "metadata": {},
     "output_type": "execute_result"
    }
   ],
   "source": [
    "section = cell.section(0)\n",
    "\n",
    "breadth_first_iter = section.iter(IterType.breadth_first)\n",
    "list(breadth_first_iter)"
   ]
  },
  {
   "cell_type": "code",
   "execution_count": 81,
   "metadata": {},
   "outputs": [
    {
     "data": {
      "text/plain": [
       "True"
      ]
     },
     "execution_count": 81,
     "metadata": {},
     "output_type": "execute_result"
    }
   ],
   "source": [
    "# Upstream iteration last point is always a root section\n",
    "# Did I tell you the soma is not a section ?\n",
    "list(cell.section(1).iter(IterType.upstream))[-1].is_root"
   ]
  },
  {
   "cell_type": "code",
   "execution_count": 82,
   "metadata": {},
   "outputs": [
    {
     "data": {
      "text/plain": [
       "[<morphio._morphio.Section at 0x7e8a73e9e9b0>,\n",
       " <morphio._morphio.Section at 0x7e8a73e9ef30>]"
      ]
     },
     "execution_count": 82,
     "metadata": {},
     "output_type": "execute_result"
    }
   ],
   "source": [
    "list(cell.iter())"
   ]
  },
  {
   "cell_type": "code",
   "execution_count": 86,
   "metadata": {},
   "outputs": [
    {
     "data": {
      "text/plain": [
       "<morphio._morphio.Section at 0x7e8a707042f0>"
      ]
     },
     "execution_count": 86,
     "metadata": {},
     "output_type": "execute_result"
    }
   ],
   "source": [
    "cell2.root_sections[0]"
   ]
  },
  {
   "cell_type": "code",
   "execution_count": null,
   "metadata": {},
   "outputs": [],
   "source": [
    "# Appending a full neurite of another morphology at the end of the leaf\n",
    "other_morph = io.Morphology(join(data_folder, 'complexe.swc'))\n",
    "new_section1 = leaf.append_section(other_morph.root_sections[0])"
   ]
  },
  {
   "cell_type": "code",
   "execution_count": 84,
   "metadata": {},
   "outputs": [
    {
     "data": {
      "text/plain": [
       "[<morphio._morphio.Section at 0x7e8a73e8b2b0>,\n",
       " <morphio._morphio.Section at 0x7e8a73e8b670>,\n",
       " <morphio._morphio.Section at 0x7e8a73e8b9b0>,\n",
       " <morphio._morphio.Section at 0x7e8a73e8b4f0>,\n",
       " <morphio._morphio.Section at 0x7e8a73e8bdf0>,\n",
       " <morphio._morphio.Section at 0x7e8a73e8b3b0>,\n",
       " <morphio._morphio.Section at 0x7e8a73e8b7f0>,\n",
       " <morphio._morphio.Section at 0x7e8a73e8beb0>,\n",
       " <morphio._morphio.Section at 0x7e8a70651f30>,\n",
       " <morphio._morphio.Section at 0x7e8a70651d30>,\n",
       " <morphio._morphio.Section at 0x7e8a70651f70>,\n",
       " <morphio._morphio.Section at 0x7e8a70651ab0>,\n",
       " <morphio._morphio.Section at 0x7e8a70651c30>,\n",
       " <morphio._morphio.Section at 0x7e8a7064fbb0>,\n",
       " <morphio._morphio.Section at 0x7e8a7064fdf0>,\n",
       " <morphio._morphio.Section at 0x7e8a7064f9b0>,\n",
       " <morphio._morphio.Section at 0x7e8a7064fcf0>,\n",
       " <morphio._morphio.Section at 0x7e8a73e86270>,\n",
       " <morphio._morphio.Section at 0x7e8a73e860f0>,\n",
       " <morphio._morphio.Section at 0x7e8a73e863b0>,\n",
       " <morphio._morphio.Section at 0x7e8a73e86030>,\n",
       " <morphio._morphio.Section at 0x7e8a73e86fb0>,\n",
       " <morphio._morphio.Section at 0x7e8a73e86cb0>,\n",
       " <morphio._morphio.Section at 0x7e8a73e86570>,\n",
       " <morphio._morphio.Section at 0x7e8a73e868b0>,\n",
       " <morphio._morphio.Section at 0x7e8a73e86bb0>,\n",
       " <morphio._morphio.Section at 0x7e8a73e86670>,\n",
       " <morphio._morphio.Section at 0x7e8a73e86870>,\n",
       " <morphio._morphio.Section at 0x7e8a73e86b30>,\n",
       " <morphio._morphio.Section at 0x7e8a73e86470>,\n",
       " <morphio._morphio.Section at 0x7e8a73e9ef70>,\n",
       " <morphio._morphio.Section at 0x7e8a73e9e0b0>,\n",
       " <morphio._morphio.Section at 0x7e8a73e9eef0>,\n",
       " <morphio._morphio.Section at 0x7e8a707dc170>,\n",
       " <morphio._morphio.Section at 0x7e8a707dc5f0>,\n",
       " <morphio._morphio.Section at 0x7e8a707dc070>,\n",
       " <morphio._morphio.Section at 0x7e8a707dceb0>,\n",
       " <morphio._morphio.Section at 0x7e8a707dc8f0>,\n",
       " <morphio._morphio.Section at 0x7e8a707dcb30>,\n",
       " <morphio._morphio.Section at 0x7e8a707dcc30>,\n",
       " <morphio._morphio.Section at 0x7e8a707dc530>,\n",
       " <morphio._morphio.Section at 0x7e8a707dc4f0>,\n",
       " <morphio._morphio.Section at 0x7e8a707dcdf0>,\n",
       " <morphio._morphio.Section at 0x7e8a707dcaf0>,\n",
       " <morphio._morphio.Section at 0x7e8a707dc2f0>,\n",
       " <morphio._morphio.Section at 0x7e8a707dc030>,\n",
       " <morphio._morphio.Section at 0x7e8a707dc370>,\n",
       " <morphio._morphio.Section at 0x7e8a707dc670>,\n",
       " <morphio._morphio.Section at 0x7e8a707dcb70>,\n",
       " <morphio._morphio.Section at 0x7e8a707dc870>,\n",
       " <morphio._morphio.Section at 0x7e8a707dcf30>,\n",
       " <morphio._morphio.Section at 0x7e8a707dce30>,\n",
       " <morphio._morphio.Section at 0x7e8a707dc570>,\n",
       " <morphio._morphio.Section at 0x7e8a707dcdb0>,\n",
       " <morphio._morphio.Section at 0x7e8a707dc330>,\n",
       " <morphio._morphio.Section at 0x7e8a73eada70>,\n",
       " <morphio._morphio.Section at 0x7e8a73eadcf0>,\n",
       " <morphio._morphio.Section at 0x7e8a73ead970>,\n",
       " <morphio._morphio.Section at 0x7e8a73ead030>,\n",
       " <morphio._morphio.Section at 0x7e8a73ead2f0>,\n",
       " <morphio._morphio.Section at 0x7e8a73ead830>,\n",
       " <morphio._morphio.Section at 0x7e8a73ead730>,\n",
       " <morphio._morphio.Section at 0x7e8a73ead130>,\n",
       " <morphio._morphio.Section at 0x7e8a73ead8f0>,\n",
       " <morphio._morphio.Section at 0x7e8a73ead4b0>,\n",
       " <morphio._morphio.Section at 0x7e8a73ead5f0>,\n",
       " <morphio._morphio.Section at 0x7e8a73eadb70>,\n",
       " <morphio._morphio.Section at 0x7e8a73ead9b0>,\n",
       " <morphio._morphio.Section at 0x7e8a73eadaf0>,\n",
       " <morphio._morphio.Section at 0x7e8a73ead930>,\n",
       " <morphio._morphio.Section at 0x7e8a73eadc70>,\n",
       " <morphio._morphio.Section at 0x7e8a73ead0f0>,\n",
       " <morphio._morphio.Section at 0x7e8a73eadeb0>,\n",
       " <morphio._morphio.Section at 0x7e8a73eadb30>,\n",
       " <morphio._morphio.Section at 0x7e8a73ead570>,\n",
       " <morphio._morphio.Section at 0x7e8a73eaddb0>]"
      ]
     },
     "execution_count": 84,
     "metadata": {},
     "output_type": "execute_result"
    }
   ],
   "source": [
    "for section in cell2.sections:\n",
    "    "
   ]
  }
 ],
 "metadata": {
  "kernelspec": {
   "display_name": "p38",
   "language": "python",
   "name": "python3"
  },
  "language_info": {
   "codemirror_mode": {
    "name": "ipython",
    "version": 3
   },
   "file_extension": ".py",
   "mimetype": "text/x-python",
   "name": "python",
   "nbconvert_exporter": "python",
   "pygments_lexer": "ipython3",
   "version": "3.8.16"
  }
 },
 "nbformat": 4,
 "nbformat_minor": 2
}
