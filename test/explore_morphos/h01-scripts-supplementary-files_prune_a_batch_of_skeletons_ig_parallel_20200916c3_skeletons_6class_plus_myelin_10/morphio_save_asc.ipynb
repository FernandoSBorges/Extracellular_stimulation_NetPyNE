{
 "cells": [
  {
   "cell_type": "code",
   "execution_count": null,
   "metadata": {},
   "outputs": [],
   "source": [
    "# pip install \"morphio<2.6\" \"morph-tool==2.3.0\""
   ]
  },
  {
   "cell_type": "code",
   "execution_count": 1,
   "metadata": {},
   "outputs": [],
   "source": [
    "import morphio.mut as io"
   ]
  },
  {
   "cell_type": "code",
   "execution_count": 2,
   "metadata": {},
   "outputs": [],
   "source": [
    "import morphio\n",
    "\n",
    "import numpy as np\n",
    "import os\n",
    "from os.path import join\n",
    "data_folder = ''\n",
    "filename = join(data_folder, 'simple.swc')"
   ]
  },
  {
   "cell_type": "code",
   "execution_count": 5,
   "metadata": {},
   "outputs": [
    {
     "name": "stderr",
     "output_type": "stream",
     "text": [
      "\n",
      "Warning: writing file without a soma\n"
     ]
    }
   ],
   "source": [
    "other_morph = io.Morphology(join(data_folder, 'h01_c3_636444441_p1_sorted2.asc'))\n",
    "other_morph.write('h01_c3_636444441_p1_sorted2b.swc')"
   ]
  },
  {
   "cell_type": "code",
   "execution_count": 4,
   "metadata": {},
   "outputs": [
    {
     "name": "stderr",
     "output_type": "stream",
     "text": [
      "\n",
      "\u001b[1;33mh01_c3_636444441_p1_sorted.swc:0:warning\u001b[0m\n",
      "Warning: no soma found in file\n",
      "\n",
      "Warning: writing file without a soma\n"
     ]
    }
   ],
   "source": [
    "other_morph = io.Morphology(join(data_folder, 'h01_c3_636444441_p1_sorted2.swc'))\n",
    "other_morph.write('h01_c3_636444441_p1_sorted2.asc')"
   ]
  },
  {
   "cell_type": "code",
   "execution_count": 3,
   "metadata": {},
   "outputs": [
    {
     "data": {
      "text/plain": [
       "'simple.swc'"
      ]
     },
     "execution_count": 3,
     "metadata": {},
     "output_type": "execute_result"
    }
   ],
   "source": [
    "filename"
   ]
  },
  {
   "cell_type": "code",
   "execution_count": 6,
   "metadata": {},
   "outputs": [],
   "source": [
    "m = io.Morphology(filename)"
   ]
  },
  {
   "cell_type": "code",
   "execution_count": 15,
   "metadata": {},
   "outputs": [],
   "source": [
    "m = io.Morphology(filename)"
   ]
  },
  {
   "cell_type": "markdown",
   "metadata": {},
   "source": [
    "# Modifying an existing section"
   ]
  },
  {
   "cell_type": "code",
   "execution_count": 16,
   "metadata": {},
   "outputs": [
    {
     "data": {
      "text/plain": [
       "array([[ 0.,  5.,  0.],\n",
       "       [-5.,  5.,  0.]], dtype=float32)"
      ]
     },
     "execution_count": 16,
     "metadata": {},
     "output_type": "execute_result"
    }
   ],
   "source": [
    "leaf = m.root_sections[0].children[0]\n",
    "leaf.points"
   ]
  },
  {
   "cell_type": "code",
   "execution_count": 17,
   "metadata": {},
   "outputs": [],
   "source": [
    "# simply reassign the points and diameters\n",
    "leaf.points = [[0,0,0], [1,1,1], [2,2,2]]\n",
    "leaf.diameters = [10,10,10]"
   ]
  },
  {
   "cell_type": "markdown",
   "metadata": {},
   "source": [
    "# Appending a new section"
   ]
  },
  {
   "cell_type": "markdown",
   "metadata": {},
   "source": [
    "## Grafting an existing section"
   ]
  },
  {
   "cell_type": "code",
   "execution_count": 18,
   "metadata": {},
   "outputs": [
    {
     "name": "stdout",
     "output_type": "stream",
     "text": [
      "total 15868\n",
      "42103104 -rw-rw-r-- 1 fernando fernando    4144 Jun  6 16:10 104_proofread_neurons_info.txt\n",
      "42103109 -rw-rw-r-- 1 fernando fernando  903716 May 19  2021 4607885827.0.swc\n",
      "42103110 -rw-rw-r-- 1 fernando fernando      56 May 19  2021 4607885827.1.swc\n",
      "42103111 -rw-rw-r-- 1 fernando fernando   86847 May 19  2021 4607885827.2.swc\n",
      "42103112 -rw-rw-r-- 1 fernando fernando     773 May 19  2021 4607885827.3.swc\n",
      "42103114 -rw-rw-r-- 1 fernando fernando    1116 May 19  2021 4607885827.4.swc\n",
      "42103117 -rw-rw-r-- 1 fernando fernando    8005 May 19  2021 4607885827.5.swc\n",
      "42076810 -rwxr--r-- 1 fernando fernando  227358 Jun 11 16:24 \u001b[0m\u001b[01;32mBBP_cells_Netpyne.ipynb\u001b[0m*\n",
      "42076961 -rwxr--r-- 1 fernando fernando     603 May 31  2023 \u001b[01;32mcellwrapper2.py\u001b[0m*\n",
      "42076964 -rwxr--r-- 1 fernando fernando    2245 May 31  2023 \u001b[01;32mcellwrapper3.py\u001b[0m*\n",
      "42076879 -rw-r--r-- 1 fernando fernando    2411 May 31  2023 cellwrapper.py\n",
      "42076441 -rwxr--r-- 1 fernando fernando   42041 Jun  4 23:47 \u001b[01;32mcellwrapperTMSlike_bkp.py\u001b[0m*\n",
      "42076966 -rw-r--r-- 1 fernando fernando  178739 May 31  2023 compare_cells_S1_efel.ipynb\n",
      "42077022 -rwxr--r-- 1 fernando fernando   11333 May 31  2023 \u001b[01;32mcompare_somatic_efel.py\u001b[0m*\n",
      "42077019 -rw-r--r-- 1 fernando fernando  141490 May 31  2023 compare_somatic_input_from_S1_4steps.ipynb\n",
      "42079814 -rwxr--r-- 1 fernando fernando   12228 May 31  2023 \u001b[01;32mcompare_somatic_input_from_S1_4steps.py\u001b[0m*\n",
      "42079818 -rwxr--r-- 1 fernando fernando   61064 May 31  2023 \u001b[01;32mcompile_all_cell_data.ipynb\u001b[0m*\n",
      "42097261 -rwxrwxr-x 1 fernando fernando 1439278 Oct 19  2023 \u001b[01;32mdend-mpg141216_A_idA_axon-mpg141017_a1-2_idC.swc\u001b[0m*\n",
      "40656072 -rw-rw-r-- 1 fernando fernando    4882 Jun 11 15:27 getting_started_mutable.ipynb\n",
      "42076200 -rw-rw-r-- 1 fernando fernando  440481 Jun 11 16:09 h01_c3_3896803064_10p.swc\n",
      "42081440 -rw-rw-r-- 1 fernando fernando 2558569 Jun 11 15:56 h01_c3_3896803064_p1_sorted.swc\n",
      "42076860 -rw-rw-r-- 1 fernando fernando 3410064 Jun 11 15:37 h01_c3_3896803064_p1.swc\n",
      "42076343 -rw-rw-r-- 1 fernando fernando 3410323 Jun 10 21:37 h01_c3_3896803064.swc\n",
      "45381651 -rw-rw-r-- 1 fernando fernando  156756 Jun 10 21:44 h01_c3_id.png\n",
      "42079819 -rwxr--r-- 1 fernando fernando     975 May 31  2023 \u001b[01;32mrun_4steps_stochkv.sh\u001b[0m*\n",
      "42079882 -rwxr--r-- 1 fernando fernando     184 May 31  2023 \u001b[01;32mrun_all_after_compile.sh\u001b[0m*\n",
      "42081672 -rw-rw-r-- 1 fernando fernando     679 Jun 11 16:29 simple.swc\n",
      "42076872 -rwxr--r-- 1 fernando fernando 3070010 May 31  2023 \u001b[01;32msomatic_input_BBP.ipynb\u001b[0m*\n",
      "42079888 -rw-r--r-- 1 fernando fernando    5655 May 31  2023 stochkv_cells.txt\n"
     ]
    }
   ],
   "source": [
    "ls -li"
   ]
  },
  {
   "cell_type": "code",
   "execution_count": null,
   "metadata": {},
   "outputs": [],
   "source": []
  },
  {
   "cell_type": "code",
   "execution_count": 19,
   "metadata": {},
   "outputs": [
    {
     "name": "stderr",
     "output_type": "stream",
     "text": [
      "\n",
      "\u001b[1;33mh01_c3_3896803064_p1_sorted.swc:18797:warning\u001b[0m\n",
      "Warning: found a disconnected neurite.\n",
      "Neurites are not supposed to have parentId: -1\n",
      "(although this is normal if this neuron has no soma)\n",
      "\n",
      "\u001b[1;33mh01_c3_3896803064_p1_sorted.swc:19267:warning\u001b[0m\n",
      "Warning: found a disconnected neurite.\n",
      "Neurites are not supposed to have parentId: -1\n",
      "(although this is normal if this neuron has no soma)\n",
      "\n",
      "\u001b[1;33mh01_c3_3896803064_p1_sorted.swc:44052:warning\u001b[0m\n",
      "Warning: found a disconnected neurite.\n",
      "Neurites are not supposed to have parentId: -1\n",
      "(although this is normal if this neuron has no soma)\n",
      "\n",
      "\u001b[1;33mh01_c3_3896803064_p1_sorted.swc:44096:warning\u001b[0m\n",
      "Warning: found a disconnected neurite.\n",
      "Neurites are not supposed to have parentId: -1\n",
      "(although this is normal if this neuron has no soma)\n",
      "\n",
      "\u001b[1;33mh01_c3_3896803064_p1_sorted.swc:44261:warning\u001b[0m\n",
      "Warning: found a disconnected neurite.\n",
      "Neurites are not supposed to have parentId: -1\n",
      "(although this is normal if this neuron has no soma)\n",
      "\n",
      "\u001b[1;33mh01_c3_3896803064_p1_sorted.swc:44268:warning\u001b[0m\n",
      "Warning: found a disconnected neurite.\n",
      "Neurites are not supposed to have parentId: -1\n",
      "(although this is normal if this neuron has no soma)\n",
      "\n",
      "\u001b[1;33mh01_c3_3896803064_p1_sorted.swc:44277:warning\u001b[0m\n",
      "Warning: found a disconnected neurite.\n",
      "Neurites are not supposed to have parentId: -1\n",
      "(although this is normal if this neuron has no soma)\n",
      "\n",
      "\u001b[1;33mh01_c3_3896803064_p1_sorted.swc:46853:warning\u001b[0m\n",
      "Warning: found a disconnected neurite.\n",
      "Neurites are not supposed to have parentId: -1\n",
      "(although this is normal if this neuron has no soma)\n",
      "\n",
      "\u001b[1;33mh01_c3_3896803064_p1_sorted.swc:46860:warning\u001b[0m\n",
      "Warning: found a disconnected neurite.\n",
      "Neurites are not supposed to have parentId: -1\n",
      "(although this is normal if this neuron has no soma)\n",
      "\n",
      "\u001b[1;33mh01_c3_3896803064_p1_sorted.swc:46872:warning\u001b[0m\n",
      "Warning: found a disconnected neurite.\n",
      "Neurites are not supposed to have parentId: -1\n",
      "(although this is normal if this neuron has no soma)\n",
      "\n",
      "\u001b[1;33mh01_c3_3896803064_p1_sorted.swc:48637:warning\u001b[0m\n",
      "Warning: found a disconnected neurite.\n",
      "Neurites are not supposed to have parentId: -1\n",
      "(although this is normal if this neuron has no soma)\n",
      "\n",
      "\u001b[1;33mh01_c3_3896803064_p1_sorted.swc:50113:warning\u001b[0m\n",
      "Warning: found a disconnected neurite.\n",
      "Neurites are not supposed to have parentId: -1\n",
      "(although this is normal if this neuron has no soma)\n",
      "\n",
      "\u001b[1;33mh01_c3_3896803064_p1_sorted.swc:50126:warning\u001b[0m\n",
      "Warning: found a disconnected neurite.\n",
      "Neurites are not supposed to have parentId: -1\n",
      "(although this is normal if this neuron has no soma)\n",
      "\n",
      "\u001b[1;33mh01_c3_3896803064_p1_sorted.swc:50237:warning\u001b[0m\n",
      "Warning: found a disconnected neurite.\n",
      "Neurites are not supposed to have parentId: -1\n",
      "(although this is normal if this neuron has no soma)\n",
      "\n",
      "\u001b[1;33mh01_c3_3896803064_p1_sorted.swc:50301:warning\u001b[0m\n",
      "Warning: found a disconnected neurite.\n",
      "Neurites are not supposed to have parentId: -1\n",
      "(although this is normal if this neuron has no soma)\n",
      "\n",
      "\u001b[1;33mh01_c3_3896803064_p1_sorted.swc:50332:warning\u001b[0m\n",
      "Warning: found a disconnected neurite.\n",
      "Neurites are not supposed to have parentId: -1\n",
      "(although this is normal if this neuron has no soma)\n",
      "\n",
      "\u001b[1;33mh01_c3_3896803064_p1_sorted.swc:50348:warning\u001b[0m\n",
      "Warning: found a disconnected neurite.\n",
      "Neurites are not supposed to have parentId: -1\n",
      "(although this is normal if this neuron has no soma)\n",
      "\n",
      "\u001b[1;33mh01_c3_3896803064_p1_sorted.swc:50363:warning\u001b[0m\n",
      "Warning: found a disconnected neurite.\n",
      "Neurites are not supposed to have parentId: -1\n",
      "(although this is normal if this neuron has no soma)\n",
      "\n",
      "\u001b[1;33mh01_c3_3896803064_p1_sorted.swc:50378:warning\u001b[0m\n",
      "Warning: found a disconnected neurite.\n",
      "Neurites are not supposed to have parentId: -1\n",
      "(although this is normal if this neuron has no soma)\n",
      "\n",
      "\u001b[1;33mh01_c3_3896803064_p1_sorted.swc:50391:warning\u001b[0m\n",
      "Warning: found a disconnected neurite.\n",
      "Neurites are not supposed to have parentId: -1\n",
      "(although this is normal if this neuron has no soma)\n",
      "\n",
      "\u001b[1;33mh01_c3_3896803064_p1_sorted.swc:50402:warning\u001b[0m\n",
      "Warning: found a disconnected neurite.\n",
      "Neurites are not supposed to have parentId: -1\n",
      "(although this is normal if this neuron has no soma)\n",
      "\n",
      "\u001b[1;33mh01_c3_3896803064_p1_sorted.swc:50412:warning\u001b[0m\n",
      "Warning: found a disconnected neurite.\n",
      "Neurites are not supposed to have parentId: -1\n",
      "(although this is normal if this neuron has no soma)\n",
      "\n",
      "\u001b[1;33mh01_c3_3896803064_p1_sorted.swc:50421:warning\u001b[0m\n",
      "Warning: found a disconnected neurite.\n",
      "Neurites are not supposed to have parentId: -1\n",
      "(although this is normal if this neuron has no soma)\n",
      "\n",
      "\u001b[1;33mh01_c3_3896803064_p1_sorted.swc:50430:warning\u001b[0m\n",
      "Warning: found a disconnected neurite.\n",
      "Neurites are not supposed to have parentId: -1\n",
      "(although this is normal if this neuron has no soma)\n",
      "\n",
      "\u001b[1;33mh01_c3_3896803064_p1_sorted.swc:50439:warning\u001b[0m\n",
      "Warning: found a disconnected neurite.\n",
      "Neurites are not supposed to have parentId: -1\n",
      "(although this is normal if this neuron has no soma)\n",
      "\n",
      "\u001b[1;33mh01_c3_3896803064_p1_sorted.swc:50448:warning\u001b[0m\n",
      "Warning: found a disconnected neurite.\n",
      "Neurites are not supposed to have parentId: -1\n",
      "(although this is normal if this neuron has no soma)\n",
      "\n",
      "\u001b[1;33mh01_c3_3896803064_p1_sorted.swc:50457:warning\u001b[0m\n",
      "Warning: found a disconnected neurite.\n",
      "Neurites are not supposed to have parentId: -1\n",
      "(although this is normal if this neuron has no soma)\n",
      "\n",
      "\u001b[1;33mh01_c3_3896803064_p1_sorted.swc:50464:warning\u001b[0m\n",
      "Warning: found a disconnected neurite.\n",
      "Neurites are not supposed to have parentId: -1\n",
      "(although this is normal if this neuron has no soma)\n",
      "\n",
      "\u001b[1;33mh01_c3_3896803064_p1_sorted.swc:50471:warning\u001b[0m\n",
      "Warning: found a disconnected neurite.\n",
      "Neurites are not supposed to have parentId: -1\n",
      "(although this is normal if this neuron has no soma)\n",
      "\n",
      "\u001b[1;33mh01_c3_3896803064_p1_sorted.swc:50477:warning\u001b[0m\n",
      "Warning: found a disconnected neurite.\n",
      "Neurites are not supposed to have parentId: -1\n",
      "(although this is normal if this neuron has no soma)\n",
      "\n",
      "\u001b[1;33mh01_c3_3896803064_p1_sorted.swc:50483:warning\u001b[0m\n",
      "Warning: found a disconnected neurite.\n",
      "Neurites are not supposed to have parentId: -1\n",
      "(although this is normal if this neuron has no soma)\n",
      "\n",
      "\u001b[1;33mh01_c3_3896803064_p1_sorted.swc:50489:warning\u001b[0m\n",
      "Warning: found a disconnected neurite.\n",
      "Neurites are not supposed to have parentId: -1\n",
      "(although this is normal if this neuron has no soma)\n",
      "\n",
      "\u001b[1;33mh01_c3_3896803064_p1_sorted.swc:50495:warning\u001b[0m\n",
      "Warning: found a disconnected neurite.\n",
      "Neurites are not supposed to have parentId: -1\n",
      "(although this is normal if this neuron has no soma)\n",
      "\n",
      "\u001b[1;33mh01_c3_3896803064_p1_sorted.swc:50501:warning\u001b[0m\n",
      "Warning: found a disconnected neurite.\n",
      "Neurites are not supposed to have parentId: -1\n",
      "(although this is normal if this neuron has no soma)\n",
      "\n",
      "\u001b[1;33mh01_c3_3896803064_p1_sorted.swc:50507:warning\u001b[0m\n",
      "Warning: found a disconnected neurite.\n",
      "Neurites are not supposed to have parentId: -1\n",
      "(although this is normal if this neuron has no soma)\n",
      "\n",
      "\u001b[1;33mh01_c3_3896803064_p1_sorted.swc:50512:warning\u001b[0m\n",
      "Warning: found a disconnected neurite.\n",
      "Neurites are not supposed to have parentId: -1\n",
      "(although this is normal if this neuron has no soma)\n",
      "\n",
      "\u001b[1;33mh01_c3_3896803064_p1_sorted.swc:50516:warning\u001b[0m\n",
      "Warning: found a disconnected neurite.\n",
      "Neurites are not supposed to have parentId: -1\n",
      "(although this is normal if this neuron has no soma)\n",
      "\n",
      "\u001b[1;33mh01_c3_3896803064_p1_sorted.swc:50519:warning\u001b[0m\n",
      "Warning: found a disconnected neurite.\n",
      "Neurites are not supposed to have parentId: -1\n",
      "(although this is normal if this neuron has no soma)\n"
     ]
    }
   ],
   "source": [
    "# Appending a full neurite of another morphology at the end of the leaf\n",
    "other_morph = io.Morphology(join(data_folder, 'h01_c3_3896803064_p1_sorted.swc'))\n",
    "# new_section1 = leaf.append_section(other_morph.root_sections[0])"
   ]
  },
  {
   "cell_type": "markdown",
   "metadata": {},
   "source": [
    "## Creating a new section"
   ]
  },
  {
   "cell_type": "code",
   "execution_count": 7,
   "metadata": {},
   "outputs": [],
   "source": [
    "from morphio import PointLevel\n",
    "\n",
    "coordinates = [[0,0,0], [1,1,1], [2,2,2]]\n",
    "diameters = [10, 10, 10]\n",
    "\n",
    "# creating root section\n",
    "new_root = m.append_root_section(PointLevel(coordinates, diameters))\n",
    "\n",
    "# creating new section at the tip of an existing neurite\n",
    "new_section_2 = leaf.append_section(PointLevel(coordinates, diameters))"
   ]
  },
  {
   "cell_type": "markdown",
   "metadata": {},
   "source": [
    "## Deleting a section"
   ]
  },
  {
   "cell_type": "code",
   "execution_count": 8,
   "metadata": {},
   "outputs": [],
   "source": [
    "# Recursively delete a section and all its descendant\n",
    "m.delete_section(new_section1)"
   ]
  },
  {
   "cell_type": "code",
   "execution_count": 9,
   "metadata": {},
   "outputs": [],
   "source": [
    "# Delete a section and reattatch its descendants to the parent\n",
    "m.delete_section(new_section_2, recursive=False)"
   ]
  },
  {
   "cell_type": "markdown",
   "metadata": {},
   "source": [
    "# Save to disk"
   ]
  },
  {
   "cell_type": "code",
   "execution_count": 5,
   "metadata": {},
   "outputs": [],
   "source": [
    "other_morph.write('h01_c3_3896803064_p1_sorted.asc')"
   ]
  },
  {
   "cell_type": "code",
   "execution_count": null,
   "metadata": {},
   "outputs": [],
   "source": [
    "!cat /tmp/awesome-neuron.asc"
   ]
  },
  {
   "cell_type": "code",
   "execution_count": null,
   "metadata": {},
   "outputs": [],
   "source": []
  }
 ],
 "metadata": {
  "kernelspec": {
   "display_name": "p38",
   "language": "python",
   "name": "python3"
  },
  "language_info": {
   "codemirror_mode": {
    "name": "ipython",
    "version": 3
   },
   "file_extension": ".py",
   "mimetype": "text/x-python",
   "name": "python",
   "nbconvert_exporter": "python",
   "pygments_lexer": "ipython3",
   "version": "3.8.18"
  }
 },
 "nbformat": 4,
 "nbformat_minor": 2
}
