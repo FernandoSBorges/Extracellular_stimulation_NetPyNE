{
 "cells": [
  {
   "cell_type": "code",
   "execution_count": 2,
   "metadata": {},
   "outputs": [
    {
     "name": "stdout",
     "output_type": "stream",
     "text": [
      "radius from 0.0 to 63.00630063006301 micrometers\n"
     ]
    }
   ],
   "source": [
    "# from cfg import *"
   ]
  },
  {
   "cell_type": "code",
   "execution_count": 1,
   "metadata": {},
   "outputs": [],
   "source": [
    "# cfg.duration = 2000"
   ]
  },
  {
   "cell_type": "code",
   "execution_count": 1,
   "metadata": {},
   "outputs": [],
   "source": [
    "\"\"\"\n",
    "script to load sim and plot\n",
    "\"\"\"\n",
    "\n",
    "from netpyne import sim\n",
    "from matplotlib import pyplot as plt\n",
    "import os\n",
    "import pickle as pkl\n"
   ]
  },
  {
   "cell_type": "code",
   "execution_count": 2,
   "metadata": {},
   "outputs": [],
   "source": [
    "filename = '../data/v1_batch1/v1_batch1_0_data.pkl'"
   ]
  },
  {
   "cell_type": "code",
   "execution_count": null,
   "metadata": {},
   "outputs": [],
   "source": []
  },
  {
   "cell_type": "code",
   "execution_count": 15,
   "metadata": {},
   "outputs": [
    {
     "name": "stdout",
     "output_type": "stream",
     "text": [
      "\n",
      "Start time:  2024-05-15 11:45:07.784308\n",
      "Loading file ../data/v1_batch1/v1_batch1_0_data.pkl ... \n",
      "  Done; file loading time = 10.32 s\n",
      "Loading simConfig...\n",
      "Loading netParams...\n",
      "  netCells and/or netPops not found in file ../data/v1_batch1/v1_batch1_0_data.pkl\n",
      "Loading simData...\n",
      "\n",
      "Creating network of 351 cell populations on 1 hosts...\n"
     ]
    },
    {
     "ename": "TypeError",
     "evalue": "argument of type 'function' is not iterable",
     "output_type": "error",
     "traceback": [
      "\u001b[0;31m---------------------------------------------------------------------------\u001b[0m",
      "\u001b[0;31mTypeError\u001b[0m                                 Traceback (most recent call last)",
      "Cell \u001b[0;32mIn[15], line 1\u001b[0m\n\u001b[0;32m----> 1\u001b[0m \u001b[43msim\u001b[49m\u001b[38;5;241;43m.\u001b[39;49m\u001b[43mload\u001b[49m\u001b[43m(\u001b[49m\u001b[43mfilename\u001b[49m\u001b[43m)\u001b[49m\n",
      "File \u001b[0;32m~/miniconda3/envs/p38/lib/python3.8/site-packages/netpyne/sim/wrappers.py:444\u001b[0m, in \u001b[0;36mload\u001b[0;34m(filename, simConfig, output, instantiate, instantiateCells, instantiateConns, instantiateStims, instantiateRxD, createNEURONObj)\u001b[0m\n\u001b[1;32m    442\u001b[0m pops \u001b[38;5;241m=\u001b[39m sim\u001b[38;5;241m.\u001b[39mnet\u001b[38;5;241m.\u001b[39mcreatePops()  \u001b[38;5;66;03m# instantiate network populations\u001b[39;00m\n\u001b[1;32m    443\u001b[0m \u001b[38;5;28;01mif\u001b[39;00m instantiateCells:\n\u001b[0;32m--> 444\u001b[0m     cells \u001b[38;5;241m=\u001b[39m \u001b[43msim\u001b[49m\u001b[38;5;241;43m.\u001b[39;49m\u001b[43mnet\u001b[49m\u001b[38;5;241;43m.\u001b[39;49m\u001b[43mcreateCells\u001b[49m\u001b[43m(\u001b[49m\u001b[43m)\u001b[49m  \u001b[38;5;66;03m# instantiate network cells based on defined populations\u001b[39;00m\n\u001b[1;32m    445\u001b[0m \u001b[38;5;28;01mif\u001b[39;00m instantiateConns:\n\u001b[1;32m    446\u001b[0m     conns \u001b[38;5;241m=\u001b[39m sim\u001b[38;5;241m.\u001b[39mnet\u001b[38;5;241m.\u001b[39mconnectCells()  \u001b[38;5;66;03m# create connections between cells based on params\u001b[39;00m\n",
      "File \u001b[0;32m~/miniconda3/envs/p38/lib/python3.8/site-packages/netpyne/network/network.py:99\u001b[0m, in \u001b[0;36mNetwork.createCells\u001b[0;34m(self)\u001b[0m\n\u001b[1;32m     96\u001b[0m \u001b[38;5;28mself\u001b[39m\u001b[38;5;241m.\u001b[39m_setDiversityRanges()  \u001b[38;5;66;03m# update fractions for rules\u001b[39;00m\n\u001b[1;32m     98\u001b[0m \u001b[38;5;28;01mfor\u001b[39;00m ipop \u001b[38;5;129;01min\u001b[39;00m \u001b[38;5;28mlist\u001b[39m(\u001b[38;5;28mself\u001b[39m\u001b[38;5;241m.\u001b[39mpops\u001b[38;5;241m.\u001b[39mvalues()):  \u001b[38;5;66;03m# For each pop instantiate the network cells (objects of class 'Cell')\u001b[39;00m\n\u001b[0;32m---> 99\u001b[0m     newCells \u001b[38;5;241m=\u001b[39m \u001b[43mipop\u001b[49m\u001b[38;5;241;43m.\u001b[39;49m\u001b[43mcreateCells\u001b[49m\u001b[43m(\u001b[49m\u001b[43m)\u001b[49m  \u001b[38;5;66;03m# create cells for this pop using Pop method\u001b[39;00m\n\u001b[1;32m    100\u001b[0m     \u001b[38;5;28mself\u001b[39m\u001b[38;5;241m.\u001b[39mcells\u001b[38;5;241m.\u001b[39mextend(newCells)  \u001b[38;5;66;03m# add to list of cells\u001b[39;00m\n\u001b[1;32m    101\u001b[0m     sim\u001b[38;5;241m.\u001b[39mpc\u001b[38;5;241m.\u001b[39mbarrier()\n",
      "File \u001b[0;32m~/miniconda3/envs/p38/lib/python3.8/site-packages/netpyne/network/pop.py:79\u001b[0m, in \u001b[0;36mPop.createCells\u001b[0;34m(self)\u001b[0m\n\u001b[1;32m     77\u001b[0m \u001b[38;5;66;03m# add individual cells\u001b[39;00m\n\u001b[1;32m     78\u001b[0m \u001b[38;5;28;01mif\u001b[39;00m \u001b[38;5;124m'\u001b[39m\u001b[38;5;124mcellsList\u001b[39m\u001b[38;5;124m'\u001b[39m \u001b[38;5;129;01min\u001b[39;00m \u001b[38;5;28mself\u001b[39m\u001b[38;5;241m.\u001b[39mtags:\n\u001b[0;32m---> 79\u001b[0m     cells \u001b[38;5;241m=\u001b[39m \u001b[38;5;28;43mself\u001b[39;49m\u001b[38;5;241;43m.\u001b[39;49m\u001b[43mcreateCellsList\u001b[49m\u001b[43m(\u001b[49m\u001b[43m)\u001b[49m\n\u001b[1;32m     81\u001b[0m \u001b[38;5;66;03m# create cells based on fixed number of cells\u001b[39;00m\n\u001b[1;32m     82\u001b[0m \u001b[38;5;28;01melif\u001b[39;00m \u001b[38;5;124m'\u001b[39m\u001b[38;5;124mnumCells\u001b[39m\u001b[38;5;124m'\u001b[39m \u001b[38;5;129;01min\u001b[39;00m \u001b[38;5;28mself\u001b[39m\u001b[38;5;241m.\u001b[39mtags:\n",
      "File \u001b[0;32m~/miniconda3/envs/p38/lib/python3.8/site-packages/netpyne/network/pop.py:406\u001b[0m, in \u001b[0;36mPop.createCellsList\u001b[0;34m(self)\u001b[0m\n\u001b[1;32m    402\u001b[0m \u001b[38;5;28;01mif\u001b[39;00m (\n\u001b[1;32m    403\u001b[0m     \u001b[38;5;124m'\u001b[39m\u001b[38;5;124mcellModel\u001b[39m\u001b[38;5;124m'\u001b[39m \u001b[38;5;129;01min\u001b[39;00m \u001b[38;5;28mself\u001b[39m\u001b[38;5;241m.\u001b[39mtags\u001b[38;5;241m.\u001b[39mkeys() \u001b[38;5;129;01mand\u001b[39;00m \u001b[38;5;28mself\u001b[39m\u001b[38;5;241m.\u001b[39mtags[\u001b[38;5;124m'\u001b[39m\u001b[38;5;124mcellModel\u001b[39m\u001b[38;5;124m'\u001b[39m] \u001b[38;5;241m==\u001b[39m \u001b[38;5;124m'\u001b[39m\u001b[38;5;124mVecstim\u001b[39m\u001b[38;5;124m'\u001b[39m\n\u001b[1;32m    404\u001b[0m ):  \u001b[38;5;66;03m# if VecStim, copy spike times to params\u001b[39;00m\n\u001b[1;32m    405\u001b[0m     cellTags[\u001b[38;5;124m'\u001b[39m\u001b[38;5;124mparams\u001b[39m\u001b[38;5;124m'\u001b[39m][\u001b[38;5;124m'\u001b[39m\u001b[38;5;124mspkTimes\u001b[39m\u001b[38;5;124m'\u001b[39m] \u001b[38;5;241m=\u001b[39m \u001b[38;5;28mself\u001b[39m\u001b[38;5;241m.\u001b[39mtags[\u001b[38;5;124m'\u001b[39m\u001b[38;5;124mcellsList\u001b[39m\u001b[38;5;124m'\u001b[39m][i][\u001b[38;5;124m'\u001b[39m\u001b[38;5;124mspkTimes\u001b[39m\u001b[38;5;124m'\u001b[39m]\n\u001b[0;32m--> 406\u001b[0m cells\u001b[38;5;241m.\u001b[39mappend(\u001b[38;5;28;43mself\u001b[39;49m\u001b[38;5;241;43m.\u001b[39;49m\u001b[43mcellModelClass\u001b[49m\u001b[43m(\u001b[49m\u001b[43mgid\u001b[49m\u001b[43m,\u001b[49m\u001b[43m \u001b[49m\u001b[43mcellTags\u001b[49m\u001b[43m)\u001b[49m)  \u001b[38;5;66;03m# instantiate Cell object\u001b[39;00m\n\u001b[1;32m    407\u001b[0m \u001b[38;5;28;01mif\u001b[39;00m sim\u001b[38;5;241m.\u001b[39mcfg\u001b[38;5;241m.\u001b[39mverbose:\n\u001b[1;32m    408\u001b[0m     \u001b[38;5;28mprint\u001b[39m(\n\u001b[1;32m    409\u001b[0m         (\u001b[38;5;124m'\u001b[39m\u001b[38;5;124mCell \u001b[39m\u001b[38;5;132;01m%d\u001b[39;00m\u001b[38;5;124m/\u001b[39m\u001b[38;5;132;01m%d\u001b[39;00m\u001b[38;5;124m (gid=\u001b[39m\u001b[38;5;132;01m%d\u001b[39;00m\u001b[38;5;124m) of pop \u001b[39m\u001b[38;5;132;01m%d\u001b[39;00m\u001b[38;5;124m, on node \u001b[39m\u001b[38;5;132;01m%d\u001b[39;00m\u001b[38;5;124m, \u001b[39m\u001b[38;5;124m'\u001b[39m \u001b[38;5;241m%\u001b[39m (i, \u001b[38;5;28mself\u001b[39m\u001b[38;5;241m.\u001b[39mtags[\u001b[38;5;124m'\u001b[39m\u001b[38;5;124mnumCells\u001b[39m\u001b[38;5;124m'\u001b[39m] \u001b[38;5;241m-\u001b[39m \u001b[38;5;241m1\u001b[39m, gid, i, sim\u001b[38;5;241m.\u001b[39mrank))\n\u001b[1;32m    410\u001b[0m     )\n",
      "File \u001b[0;32m~/miniconda3/envs/p38/lib/python3.8/site-packages/netpyne/cell/pointCell.py:71\u001b[0m, in \u001b[0;36mPointCell.__init__\u001b[0;34m(self, gid, tags, create, associateGid)\u001b[0m\n\u001b[1;32m     68\u001b[0m     \u001b[38;5;28mself\u001b[39m\u001b[38;5;241m.\u001b[39mparams \u001b[38;5;241m=\u001b[39m deepcopy(dictParams)\n\u001b[1;32m     70\u001b[0m \u001b[38;5;28;01mif\u001b[39;00m create \u001b[38;5;129;01mand\u001b[39;00m sim\u001b[38;5;241m.\u001b[39mcfg\u001b[38;5;241m.\u001b[39mcreateNEURONObj:\n\u001b[0;32m---> 71\u001b[0m     \u001b[38;5;28;43mself\u001b[39;49m\u001b[38;5;241;43m.\u001b[39;49m\u001b[43mcreateNEURONObj\u001b[49m\u001b[43m(\u001b[49m\u001b[43m)\u001b[49m  \u001b[38;5;66;03m# create cell\u001b[39;00m\n\u001b[1;32m     72\u001b[0m \u001b[38;5;28;01mif\u001b[39;00m associateGid:\n\u001b[1;32m     73\u001b[0m     \u001b[38;5;28mself\u001b[39m\u001b[38;5;241m.\u001b[39massociateGid()\n",
      "File \u001b[0;32m~/miniconda3/envs/p38/lib/python3.8/site-packages/netpyne/cell/pointCell.py:97\u001b[0m, in \u001b[0;36mPointCell.createNEURONObj\u001b[0;34m(self, prop)\u001b[0m\n\u001b[1;32m     94\u001b[0m     \u001b[38;5;28;01mreturn\u001b[39;00m\n\u001b[1;32m     96\u001b[0m \u001b[38;5;66;03m# if rate is list with 2 items generate random value from uniform\u001b[39;00m\n\u001b[0;32m---> 97\u001b[0m \u001b[38;5;28;01mif\u001b[39;00m \u001b[38;5;124;43m'\u001b[39;49m\u001b[38;5;124;43mrate\u001b[39;49m\u001b[38;5;124;43m'\u001b[39;49m\u001b[43m \u001b[49m\u001b[38;5;129;43;01min\u001b[39;49;00m\u001b[43m \u001b[49m\u001b[38;5;28;43mself\u001b[39;49m\u001b[38;5;241;43m.\u001b[39;49m\u001b[43mparams\u001b[49m \u001b[38;5;129;01mand\u001b[39;00m \u001b[38;5;28misinstance\u001b[39m(\u001b[38;5;28mself\u001b[39m\u001b[38;5;241m.\u001b[39mparams[\u001b[38;5;124m'\u001b[39m\u001b[38;5;124mrate\u001b[39m\u001b[38;5;124m'\u001b[39m], \u001b[38;5;28mlist\u001b[39m) \u001b[38;5;129;01mand\u001b[39;00m \u001b[38;5;28mlen\u001b[39m(\u001b[38;5;28mself\u001b[39m\u001b[38;5;241m.\u001b[39mparams[\u001b[38;5;124m'\u001b[39m\u001b[38;5;124mrate\u001b[39m\u001b[38;5;124m'\u001b[39m]) \u001b[38;5;241m==\u001b[39m \u001b[38;5;241m2\u001b[39m:\n\u001b[1;32m     98\u001b[0m     rand \u001b[38;5;241m=\u001b[39m h\u001b[38;5;241m.\u001b[39mRandom()\n\u001b[1;32m     99\u001b[0m     rand\u001b[38;5;241m.\u001b[39mRandom123(sim\u001b[38;5;241m.\u001b[39mhashStr(\u001b[38;5;124m'\u001b[39m\u001b[38;5;124mpoint_rate\u001b[39m\u001b[38;5;124m'\u001b[39m), \u001b[38;5;28mself\u001b[39m\u001b[38;5;241m.\u001b[39mgid, sim\u001b[38;5;241m.\u001b[39mcfg\u001b[38;5;241m.\u001b[39mseeds[\u001b[38;5;124m'\u001b[39m\u001b[38;5;124mstim\u001b[39m\u001b[38;5;124m'\u001b[39m])  \u001b[38;5;66;03m# initialize randomizer\u001b[39;00m\n",
      "\u001b[0;31mTypeError\u001b[0m: argument of type 'function' is not iterable"
     ]
    }
   ],
   "source": [
    "sim.load(filename)"
   ]
  },
  {
   "cell_type": "code",
   "execution_count": 7,
   "metadata": {},
   "outputs": [
    {
     "data": {
      "text/plain": [
       "Vector[0]"
      ]
     },
     "execution_count": 7,
     "metadata": {},
     "output_type": "execute_result"
    }
   ],
   "source": [
    "sim.simData['spkt']"
   ]
  },
  {
   "cell_type": "code",
   "execution_count": 11,
   "metadata": {
    "tags": []
   },
   "outputs": [],
   "source": [
    "# sim.analysis.plotShape(includePre=['L1_DAC_bNA'], includePost=['L1_DAC_bNA'], includeAxon=False, showSyns=False, showElectrodes=[0],\n",
    "#     cvar= 'voltage', dist=0.6, elev=95, azim=-90, \n",
    "#     axisLabels=True, synStyle='o', \n",
    "#     clim= [-80, -60], showFig=False, synSize=2)\n",
    "# sim.analysis.plotShape(includePre=['L1_DAC_bNA'], includePost=['L1_DAC_bNA'], includeAxon=True, showSyns=False, showElectrodes=False,\n",
    "#     cvar= 'voltage', dist=0.6, elev=95, azim=-90, \n",
    "#     axisLabels=True, synStyle='o', \n",
    "#     clim= [-80, -60], showFig=False, synSize=2)"
   ]
  },
  {
   "cell_type": "code",
   "execution_count": 10,
   "metadata": {
    "tags": []
   },
   "outputs": [
    {
     "name": "stdout",
     "output_type": "stream",
     "text": [
      "Plotting recorded cell traces ... trace\n",
      "\n",
      "There was an exception in plotTraces()\n"
     ]
    },
    {
     "name": "stderr",
     "output_type": "stream",
     "text": [
      "Traceback (most recent call last):\n",
      "  File \"/home/fernando/miniconda3/envs/p38/lib/python3.8/site-packages/netpyne/analysis/utils.py\", line 87, in wrapper\n",
      "    return function(*args, **kwargs)\n",
      "  File \"/home/fernando/miniconda3/envs/p38/lib/python3.8/site-packages/netpyne/analysis/traces.py\", line 178, in plotTraces\n",
      "    cells, cellGids, _ = getCellsInclude(include)\n",
      "  File \"/home/fernando/miniconda3/envs/p38/lib/python3.8/site-packages/netpyne/analysis/utils.py\", line 219, in getCellsInclude\n",
      "    allCells = sim.net.allCells\n",
      "AttributeError: 'Network' object has no attribute 'allCells'\n"
     ]
    }
   ],
   "source": [
    "sim.analysis.plotTraces(include=['L1_DAC_bNA'], overlay=True, timeRange = [1000,3000], oneFigPer='trace', figSize=(24,4), fontSize=15, saveFig=False);"
   ]
  },
  {
   "cell_type": "code",
   "execution_count": 14,
   "metadata": {},
   "outputs": [
    {
     "data": {
      "text/plain": [
       "{_repr_mimebundle_: {}}"
      ]
     },
     "execution_count": 14,
     "metadata": {},
     "output_type": "execute_result"
    }
   ],
   "source": []
  },
  {
   "cell_type": "code",
   "execution_count": 13,
   "metadata": {
    "tags": []
   },
   "outputs": [
    {
     "name": "stdout",
     "output_type": "stream",
     "text": [
      "axon_0 -> soma\n",
      "axon_1 -> axon_0\n"
     ]
    }
   ],
   "source": [
    "for section in netParams.cellParams[celltyp]['secLists']['axonal']:\n",
    "    print(section,'->',netParams.cellParams[celltyp]['secs'][section]['topol']['parentSec'])"
   ]
  },
  {
   "cell_type": "code",
   "execution_count": 8,
   "metadata": {
    "tags": []
   },
   "outputs": [
    {
     "name": "stdout",
     "output_type": "stream",
     "text": [
      "Plotting 2D representation of network cell locations and connections...\n",
      "\n",
      "There was an exception in plot2Dnet()\n"
     ]
    },
    {
     "name": "stderr",
     "output_type": "stream",
     "text": [
      "Traceback (most recent call last):\n",
      "  File \"/home/fernando/miniconda3/envs/p38/lib/python3.8/site-packages/netpyne/analysis/utils.py\", line 87, in wrapper\n",
      "    return function(*args, **kwargs)\n",
      "  File \"/home/fernando/miniconda3/envs/p38/lib/python3.8/site-packages/netpyne/analysis/network.py\", line 1145, in plot2Dnet\n",
      "    cells, cellGids, _ = getCellsInclude(include)\n",
      "  File \"/home/fernando/miniconda3/envs/p38/lib/python3.8/site-packages/netpyne/analysis/utils.py\", line 219, in getCellsInclude\n",
      "    allCells = sim.net.allCells\n",
      "AttributeError: 'Network' object has no attribute 'allCells'\n"
     ]
    },
    {
     "data": {
      "text/plain": [
       "<Figure size 500x400 with 0 Axes>"
      ]
     },
     "metadata": {},
     "output_type": "display_data"
    }
   ],
   "source": [
    "sim.analysis.plot2Dnet(figSize=(5, 4), fontSize=12);"
   ]
  },
  {
   "cell_type": "code",
   "execution_count": 5,
   "metadata": {},
   "outputs": [
    {
     "name": "stdout",
     "output_type": "stream",
     "text": [
      "Preparing spike data...\n",
      "\n",
      "There was an exception in prepareSpikeData()\n",
      "Plotting raster...\n",
      "\n",
      "There was an exception in plotRaster()\n"
     ]
    },
    {
     "name": "stderr",
     "output_type": "stream",
     "text": [
      "Traceback (most recent call last):\n",
      "  File \"/home/fernando/miniconda3/envs/p38/lib/python3.8/site-packages/netpyne/analysis/utils.py\", line 87, in wrapper\n",
      "    return function(*args, **kwargs)\n",
      "  File \"/home/fernando/miniconda3/envs/p38/lib/python3.8/site-packages/netpyne/analysis/spikes.py\", line 73, in prepareSpikeData\n",
      "    cells, cellGids, netStimLabels = getInclude(include)\n",
      "  File \"/home/fernando/miniconda3/envs/p38/lib/python3.8/site-packages/netpyne/analysis/tools.py\", line 91, in getInclude\n",
      "    allCells = sim.net.allCells\n",
      "AttributeError: 'Network' object has no attribute 'allCells'\n",
      "Traceback (most recent call last):\n",
      "  File \"/home/fernando/miniconda3/envs/p38/lib/python3.8/site-packages/netpyne/analysis/utils.py\", line 87, in wrapper\n",
      "    return function(*args, **kwargs)\n",
      "  File \"/home/fernando/miniconda3/envs/p38/lib/python3.8/site-packages/netpyne/plotting/plotRaster.py\", line 243, in plotRaster\n",
      "    popNumCells = [max(spkInds)]\n",
      "UnboundLocalError: local variable 'spkInds' referenced before assignment\n"
     ]
    }
   ],
   "source": [
    "sim.analysis.plotRaster()"
   ]
  },
  {
   "cell_type": "code",
   "execution_count": 6,
   "metadata": {},
   "outputs": [
    {
     "name": "stdout",
     "output_type": "stream",
     "text": [
      "Plotting recorded cell traces ... trace\n",
      "\n",
      "There was an exception in plotTraces()\n"
     ]
    },
    {
     "name": "stderr",
     "output_type": "stream",
     "text": [
      "Traceback (most recent call last):\n",
      "  File \"/home/fernando/miniconda3/envs/p38/lib/python3.8/site-packages/netpyne/analysis/utils.py\", line 87, in wrapper\n",
      "    return function(*args, **kwargs)\n",
      "  File \"/home/fernando/miniconda3/envs/p38/lib/python3.8/site-packages/netpyne/analysis/traces.py\", line 178, in plotTraces\n",
      "    cells, cellGids, _ = getCellsInclude(include)\n",
      "  File \"/home/fernando/miniconda3/envs/p38/lib/python3.8/site-packages/netpyne/analysis/utils.py\", line 219, in getCellsInclude\n",
      "    allCells = sim.net.allCells\n",
      "AttributeError: 'Network' object has no attribute 'allCells'\n"
     ]
    }
   ],
   "source": [
    "sim.analysis.plotTraces(overlay=True, ylim = [-69.5, -68.5], timeRange =[499.9, 600],  oneFigPer='trace', figSize=(12,12), fontSize=12, saveFig=False);"
   ]
  }
 ],
 "metadata": {
  "kernelspec": {
   "display_name": "Python 3 (ipykernel)",
   "language": "python",
   "name": "python3"
  },
  "language_info": {
   "codemirror_mode": {
    "name": "ipython",
    "version": 3
   },
   "file_extension": ".py",
   "mimetype": "text/x-python",
   "name": "python",
   "nbconvert_exporter": "python",
   "pygments_lexer": "ipython3",
   "version": "3.8.18"
  }
 },
 "nbformat": 4,
 "nbformat_minor": 4
}
